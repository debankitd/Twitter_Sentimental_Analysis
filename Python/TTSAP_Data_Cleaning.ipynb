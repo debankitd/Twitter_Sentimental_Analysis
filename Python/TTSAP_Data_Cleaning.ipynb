{
  "cells": [
    {
      "cell_type": "code",
      "execution_count": 1,
      "id": "e4988b70",
      "metadata": {
        "id": "e4988b70"
      },
      "outputs": [],
      "source": [
        "# Importing Required libraries and modules:\n",
        "\n",
        "import pandas as pd"
      ]
    },
    {
      "cell_type": "code",
      "source": [
        "from google.colab import drive\n",
        "drive.mount('/content/drive')"
      ],
      "metadata": {
        "colab": {
          "base_uri": "https://localhost:8080/"
        },
        "id": "H8vNkHnVp3_0",
        "outputId": "6ce9f1d4-10dc-44d5-ccff-e216b8b14159"
      },
      "id": "H8vNkHnVp3_0",
      "execution_count": 3,
      "outputs": [
        {
          "output_type": "stream",
          "name": "stdout",
          "text": [
            "Mounted at /content/drive\n"
          ]
        }
      ]
    },
    {
      "cell_type": "code",
      "execution_count": 4,
      "id": "a0e4f9c6",
      "metadata": {
        "id": "a0e4f9c6"
      },
      "outputs": [],
      "source": [
        "# importing intial data:\n",
        "\n",
        "DF = pd.read_csv(\"/content/drive/MyDrive/Colab Notebooks/NLP/Twitter_Sentimental_Analysis-main/Excel/twitter_tweets.csv\")"
      ]
    },
    {
      "cell_type": "code",
      "execution_count": null,
      "id": "5fc84329",
      "metadata": {
        "id": "5fc84329",
        "outputId": "b05cda54-298b-4741-f853-e4ddf26d7c7c"
      },
      "outputs": [
        {
          "data": {
            "text/html": [
              "<div>\n",
              "<style scoped>\n",
              "    .dataframe tbody tr th:only-of-type {\n",
              "        vertical-align: middle;\n",
              "    }\n",
              "\n",
              "    .dataframe tbody tr th {\n",
              "        vertical-align: top;\n",
              "    }\n",
              "\n",
              "    .dataframe thead th {\n",
              "        text-align: right;\n",
              "    }\n",
              "</style>\n",
              "<table border=\"1\" class=\"dataframe\">\n",
              "  <thead>\n",
              "    <tr style=\"text-align: right;\">\n",
              "      <th></th>\n",
              "      <th>2401</th>\n",
              "      <th>Borderlands</th>\n",
              "      <th>Positive</th>\n",
              "      <th>im getting on borderlands and i will murder you all ,</th>\n",
              "    </tr>\n",
              "  </thead>\n",
              "  <tbody>\n",
              "    <tr>\n",
              "      <th>0</th>\n",
              "      <td>2401</td>\n",
              "      <td>Borderlands</td>\n",
              "      <td>Positive</td>\n",
              "      <td>I am coming to the borders and I will kill you...</td>\n",
              "    </tr>\n",
              "    <tr>\n",
              "      <th>1</th>\n",
              "      <td>2401</td>\n",
              "      <td>Borderlands</td>\n",
              "      <td>Positive</td>\n",
              "      <td>im getting on borderlands and i will kill you ...</td>\n",
              "    </tr>\n",
              "    <tr>\n",
              "      <th>2</th>\n",
              "      <td>2401</td>\n",
              "      <td>Borderlands</td>\n",
              "      <td>Positive</td>\n",
              "      <td>im coming on borderlands and i will murder you...</td>\n",
              "    </tr>\n",
              "    <tr>\n",
              "      <th>3</th>\n",
              "      <td>2401</td>\n",
              "      <td>Borderlands</td>\n",
              "      <td>Positive</td>\n",
              "      <td>im getting on borderlands 2 and i will murder ...</td>\n",
              "    </tr>\n",
              "    <tr>\n",
              "      <th>4</th>\n",
              "      <td>2401</td>\n",
              "      <td>Borderlands</td>\n",
              "      <td>Positive</td>\n",
              "      <td>im getting into borderlands and i can murder y...</td>\n",
              "    </tr>\n",
              "  </tbody>\n",
              "</table>\n",
              "</div>"
            ],
            "text/plain": [
              "   2401  Borderlands  Positive  \\\n",
              "0  2401  Borderlands  Positive   \n",
              "1  2401  Borderlands  Positive   \n",
              "2  2401  Borderlands  Positive   \n",
              "3  2401  Borderlands  Positive   \n",
              "4  2401  Borderlands  Positive   \n",
              "\n",
              "  im getting on borderlands and i will murder you all ,  \n",
              "0  I am coming to the borders and I will kill you...     \n",
              "1  im getting on borderlands and i will kill you ...     \n",
              "2  im coming on borderlands and i will murder you...     \n",
              "3  im getting on borderlands 2 and i will murder ...     \n",
              "4  im getting into borderlands and i can murder y...     "
            ]
          },
          "execution_count": 3,
          "metadata": {},
          "output_type": "execute_result"
        }
      ],
      "source": [
        "DF.head()"
      ]
    },
    {
      "cell_type": "code",
      "execution_count": 5,
      "id": "d0f0b74a",
      "metadata": {
        "colab": {
          "base_uri": "https://localhost:8080/"
        },
        "id": "d0f0b74a",
        "outputId": "d2600247-de86-4ce5-e18d-6c06d171170d"
      },
      "outputs": [
        {
          "output_type": "execute_result",
          "data": {
            "text/plain": [
              "(74681, 4)"
            ]
          },
          "metadata": {},
          "execution_count": 5
        }
      ],
      "source": [
        "DF.shape"
      ]
    },
    {
      "cell_type": "code",
      "execution_count": 6,
      "id": "0b841ae9",
      "metadata": {
        "id": "0b841ae9"
      },
      "outputs": [],
      "source": [
        "# Renaming the columns to provide proper Names:\n",
        "\n",
        "DF.rename(columns = {\"im getting on borderlands and i will murder you all ,\":\"Message\", \"Positive\":\"Ratings\"}, inplace = True)"
      ]
    },
    {
      "cell_type": "code",
      "execution_count": 7,
      "id": "f1538283",
      "metadata": {
        "id": "f1538283"
      },
      "outputs": [],
      "source": [
        "# Picking up only relevant columns of the intial Dataframe as new dataframe for further operations:\n",
        "\n",
        "df = DF[[\"Ratings\", \"Message\"]]"
      ]
    },
    {
      "cell_type": "code",
      "execution_count": 8,
      "id": "5c29c703",
      "metadata": {
        "colab": {
          "base_uri": "https://localhost:8080/"
        },
        "id": "5c29c703",
        "outputId": "879ddbd7-2525-4cdd-f13f-67bcae8ec4a4"
      },
      "outputs": [
        {
          "output_type": "execute_result",
          "data": {
            "text/plain": [
              "array(['Positive', 'Neutral', 'Negative', 'Irrelevant'], dtype=object)"
            ]
          },
          "metadata": {},
          "execution_count": 8
        }
      ],
      "source": [
        "# Checking and replacing the values in Ratings columns to integers based on their Intensity:\n",
        "\n",
        "df[\"Ratings\"].unique()"
      ]
    },
    {
      "cell_type": "code",
      "execution_count": 9,
      "id": "edb3c0a1",
      "metadata": {
        "colab": {
          "base_uri": "https://localhost:8080/"
        },
        "id": "edb3c0a1",
        "outputId": "71d9054f-c8d3-435f-f39c-d4cab8041d4d"
      },
      "outputs": [
        {
          "output_type": "stream",
          "name": "stderr",
          "text": [
            "<ipython-input-9-bfb49b3a8ef4>:1: SettingWithCopyWarning: \n",
            "A value is trying to be set on a copy of a slice from a DataFrame.\n",
            "Try using .loc[row_indexer,col_indexer] = value instead\n",
            "\n",
            "See the caveats in the documentation: https://pandas.pydata.org/pandas-docs/stable/user_guide/indexing.html#returning-a-view-versus-a-copy\n",
            "  df[\"Ratings\"] = df[\"Ratings\"].replace(['Positive', 'Neutral', 'Negative', 'Irrelevant'],[3,2,1,0])\n"
          ]
        }
      ],
      "source": [
        "df[\"Ratings\"] = df[\"Ratings\"].replace(['Positive', 'Neutral', 'Negative', 'Irrelevant'],[3,2,1,0])"
      ]
    },
    {
      "cell_type": "code",
      "execution_count": 10,
      "id": "fe002807",
      "metadata": {
        "colab": {
          "base_uri": "https://localhost:8080/"
        },
        "id": "fe002807",
        "outputId": "7ebf5f72-ce9a-4cf6-b242-e45c9136ac7b"
      },
      "outputs": [
        {
          "output_type": "execute_result",
          "data": {
            "text/plain": [
              "Ratings      0\n",
              "Message    686\n",
              "dtype: int64"
            ]
          },
          "metadata": {},
          "execution_count": 10
        }
      ],
      "source": [
        "# Checking for and dropping the null values:\n",
        "\n",
        "df.isnull().sum()"
      ]
    },
    {
      "cell_type": "code",
      "execution_count": 11,
      "id": "35bd8706",
      "metadata": {
        "colab": {
          "base_uri": "https://localhost:8080/"
        },
        "id": "35bd8706",
        "outputId": "9f66565a-026e-4e00-b7b0-9b7851b2e5a7"
      },
      "outputs": [
        {
          "output_type": "stream",
          "name": "stderr",
          "text": [
            "<ipython-input-11-d1ada024d2eb>:1: SettingWithCopyWarning: \n",
            "A value is trying to be set on a copy of a slice from a DataFrame\n",
            "\n",
            "See the caveats in the documentation: https://pandas.pydata.org/pandas-docs/stable/user_guide/indexing.html#returning-a-view-versus-a-copy\n",
            "  df.dropna(inplace = True)\n"
          ]
        }
      ],
      "source": [
        "df.dropna(inplace = True)"
      ]
    },
    {
      "cell_type": "code",
      "execution_count": 12,
      "id": "b13dc619",
      "metadata": {
        "colab": {
          "base_uri": "https://localhost:8080/"
        },
        "id": "b13dc619",
        "outputId": "8c6ec0b8-5221-45a3-c510-58d456a64ca4"
      },
      "outputs": [
        {
          "output_type": "execute_result",
          "data": {
            "text/plain": [
              "Ratings    0\n",
              "Message    0\n",
              "dtype: int64"
            ]
          },
          "metadata": {},
          "execution_count": 12
        }
      ],
      "source": [
        "df.isnull().sum()"
      ]
    },
    {
      "cell_type": "code",
      "execution_count": 13,
      "id": "163d19c0",
      "metadata": {
        "colab": {
          "base_uri": "https://localhost:8080/"
        },
        "id": "163d19c0",
        "outputId": "98cd4495-1ab7-4e8d-a979-26966b466521"
      },
      "outputs": [
        {
          "output_type": "stream",
          "name": "stderr",
          "text": [
            "<ipython-input-13-a60a0d4b8441>:3: SettingWithCopyWarning: \n",
            "A value is trying to be set on a copy of a slice from a DataFrame\n",
            "\n",
            "See the caveats in the documentation: https://pandas.pydata.org/pandas-docs/stable/user_guide/indexing.html#returning-a-view-versus-a-copy\n",
            "  df.drop_duplicates(inplace = True)\n"
          ]
        }
      ],
      "source": [
        "# Dropping off the duplicate rows:\n",
        "\n",
        "df.drop_duplicates(inplace = True)"
      ]
    },
    {
      "cell_type": "code",
      "execution_count": 14,
      "id": "1c92fe4e",
      "metadata": {
        "id": "1c92fe4e"
      },
      "outputs": [],
      "source": [
        "# Exporting the Cleaned data as CSV to use it further for Sentimental Analysis:\n",
        "\n",
        "df.to_csv('TTSAP_Final_Data.csv')"
      ]
    },
    {
      "cell_type": "code",
      "execution_count": null,
      "id": "aa1db399",
      "metadata": {
        "id": "aa1db399"
      },
      "outputs": [],
      "source": []
    }
  ],
  "metadata": {
    "kernelspec": {
      "display_name": "Python 3 (ipykernel)",
      "language": "python",
      "name": "python3"
    },
    "language_info": {
      "codemirror_mode": {
        "name": "ipython",
        "version": 3
      },
      "file_extension": ".py",
      "mimetype": "text/x-python",
      "name": "python",
      "nbconvert_exporter": "python",
      "pygments_lexer": "ipython3",
      "version": "3.9.13"
    },
    "colab": {
      "provenance": []
    }
  },
  "nbformat": 4,
  "nbformat_minor": 5
}